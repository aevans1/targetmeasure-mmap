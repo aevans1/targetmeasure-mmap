{
 "cells": [
  {
   "cell_type": "code",
   "execution_count": 1,
   "metadata": {},
   "outputs": [],
   "source": [
    "# Testing out symmetrizing and adding transpose of two csr matrices from knn"
   ]
  },
  {
   "cell_type": "code",
   "execution_count": 2,
   "metadata": {},
   "outputs": [],
   "source": [
    "from sklearn.neighbors import NearestNeighbors\n",
    "import numpy as np\n",
    "import scipy.sparse as sps"
   ]
  },
  {
   "cell_type": "markdown",
   "metadata": {},
   "source": [
    "### generate data and squared distance matrix"
   ]
  },
  {
   "cell_type": "code",
   "execution_count": 3,
   "metadata": {},
   "outputs": [
    {
     "name": "stdout",
     "output_type": "stream",
     "text": [
      "[[0.48496023 0.63784343 0.28723871 0.02384442 0.9903322 ]\n",
      " [0.4419644  0.92757572 0.80445199 0.1319389  0.52459727]]\n",
      "[[0.         0.25919162 0.17049105 0.3087436  0.26222901]\n",
      " [0.25919162 0.         0.13808312 1.01003272 0.28663996]\n",
      " [0.17049105 0.13808312 0.         0.5216504  0.57265912]\n",
      " [0.3087436  1.01003272 0.5216504  0.         1.08827921]\n",
      " [0.26222901 0.28663996 0.57265912 1.08827921 0.        ]]\n"
     ]
    }
   ],
   "source": [
    "data = np.random.rand(2, 5)\n",
    "print(data)\n",
    "diffs = data.T[np.newaxis, ...] - data.T[:, np.newaxis, ...]\n",
    "sqdists = np.sum(diffs**2, axis=-1)\n",
    "print(sqdists)"
   ]
  },
  {
   "cell_type": "markdown",
   "metadata": {},
   "source": [
    "### Create nearest neighbor graph"
   ]
  },
  {
   "cell_type": "code",
   "execution_count": 4,
   "metadata": {},
   "outputs": [
    {
     "name": "stdout",
     "output_type": "stream",
     "text": [
      "knn matrix:\n",
      "[[0.         0.25919162 0.17049105 0.         0.        ]\n",
      " [0.25919162 0.         0.13808312 0.         0.        ]\n",
      " [0.17049105 0.13808312 0.         0.         0.        ]\n",
      " [0.3087436  0.         0.5216504  0.         0.        ]\n",
      " [0.26222901 0.28663996 0.         0.         0.        ]]\n",
      "Kernel matrix\n",
      "[[  1.          13.35533883   5.5008935    0.           0.        ]\n",
      " [ 13.35533883   1.           3.97820707   0.           0.        ]\n",
      " [  5.5008935    3.97820707   1.           0.           0.        ]\n",
      " [ 21.92080119   0.         184.28877958   1.           0.        ]\n",
      " [ 13.76721621  17.57363235   0.           0.           1.        ]]\n"
     ]
    }
   ],
   "source": [
    "neigh = NearestNeighbors(n_neighbors=3, metric='precomputed')\n",
    "neigh.fit(sqdists)\n",
    "knn_sqdists = neigh.kneighbors_graph(sqdists, mode='connectivity')\n",
    "\n",
    "print(\"knn matrix:\")\n",
    "print(knn_sqdists.toarray())\n",
    "\n",
    "K = knn_sqdists\n",
    "K.data = np.exp(knn_sqdists.data / 0.1)\n",
    "print(\"Kernel matrix\")\n",
    "print(K.toarray())"
   ]
  },
  {
   "cell_type": "code",
   "execution_count": 14,
   "metadata": {},
   "outputs": [
    {
     "name": "stdout",
     "output_type": "stream",
     "text": [
      "True\n",
      "[[ 1.         13.35533883  5.5008935  10.9604006   6.88360811]\n",
      " [13.35533883  1.          3.97820707  0.          8.78681617]\n",
      " [ 5.5008935   3.97820707  1.         92.14438979  0.        ]\n",
      " [10.9604006   0.         92.14438979  1.          0.        ]\n",
      " [ 6.88360811  8.78681617  0.          0.          1.        ]]\n",
      "[[  1.          13.35533883   5.5008935    0.           0.        ]\n",
      " [ 13.35533883   1.           3.97820707   0.           0.        ]\n",
      " [  5.5008935    3.97820707   1.           0.           0.        ]\n",
      " [ 21.92080119   0.         184.28877958   1.           0.        ]\n",
      " [ 13.76721621  17.57363235   0.           0.           1.        ]]\n",
      "[  1.          13.35533883   5.5008935   13.35533883   1.\n",
      "   3.97820707   5.5008935    3.97820707   1.          21.92080119\n",
      " 184.28877958   1.          13.76721621  17.57363235   1.        ]\n",
      "[  1.          13.35533883   5.5008935   13.35533883   1.\n",
      "   3.97820707   5.5008935    3.97820707   1.          21.92080119\n",
      " 184.28877958   1.          13.76721621  17.57363235   1.        ]\n"
     ]
    }
   ],
   "source": [
    "Ktranspose = K.T\n",
    "K.T.sort_indices()\n",
    "\n",
    "symm1 = 0.5*(K + K.T)\n",
    "print(symm1.has_sorted_indices)\n",
    "#print(symm1)\n",
    "#symm1.sort_indices()\n",
    "#print(\"   \")\n",
    "print(symm1.toarray())\n",
    "\n",
    "\n",
    "\n",
    "symm2 = K\n",
    "symm3 = K.T\n",
    "symm3.sort_indices\n",
    "symm2.data = 0.5*(symm2.data + symm3.data)\n",
    "print(symm2.toarray())\n",
    "\n",
    "print(symm2.data)\n",
    "print(symm3.data)"
   ]
  }
 ],
 "metadata": {
  "kernelspec": {
   "display_name": "Python 3.9.7 ('base')",
   "language": "python",
   "name": "python3"
  },
  "language_info": {
   "codemirror_mode": {
    "name": "ipython",
    "version": 3
   },
   "file_extension": ".py",
   "mimetype": "text/x-python",
   "name": "python",
   "nbconvert_exporter": "python",
   "pygments_lexer": "ipython3",
   "version": "3.9.7"
  },
  "orig_nbformat": 4,
  "vscode": {
   "interpreter": {
    "hash": "aa5ba2d7c18c7a9af17b679b7b1b29c0e4f6ea0733464dd0d1dcc72642bfd64b"
   }
  }
 },
 "nbformat": 4,
 "nbformat_minor": 2
}
